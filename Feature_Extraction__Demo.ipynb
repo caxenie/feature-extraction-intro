{
 "cells": [
  {
   "cell_type": "markdown",
   "metadata": {},
   "source": [
    "# Feature-Extraction\n",
    "## Theoretische Grundlagen, Methodik und Umsetzung anhand eines konkreten Beispiels\n",
    "### KI in der Medizin - Brustkrebs-Datenanalyse \n",
    "\n",
    "Wir haben den öffentlich verfügbaren Datensatz Breast Cancer Wisconsin verwendet und vom UCI Machine Learning Repository heruntergeladen. \n",
    "\n",
    "Repository: https://archive.ics.uci.edu/ml/datasets/Breast+Cancer+Wisconsin+%28Diagnostic%29\n"
   ]
  },
  {
   "cell_type": "markdown",
   "metadata": {},
   "source": [
    "![](./data.png)"
   ]
  },
  {
   "cell_type": "code",
   "execution_count": 20,
   "metadata": {},
   "outputs": [],
   "source": [
    "# Bibliotheken importieren\n",
    "from sklearn.datasets import load_breast_cancer\n",
    "from sklearn.datasets import make_classification\n",
    "from sklearn.preprocessing import MinMaxScaler\n",
    "from sklearn.model_selection import train_test_split\n",
    "from tensorflow.keras.models import Model\n",
    "from tensorflow.keras.layers import Input\n",
    "from tensorflow.keras.layers import Dense\n",
    "from tensorflow.keras.layers import LeakyReLU\n",
    "from tensorflow.keras.layers import BatchNormalization\n",
    "from tensorflow.keras.utils import plot_model\n",
    "from sklearn.model_selection import train_test_split, StratifiedKFold, GridSearchCV, cross_validate\n",
    "import matplotlib.pylab as pl\n",
    "import pandas as pd\n",
    "import numpy as np\n",
    "import sklearn.metrics as metrics\n",
    "import matplotlib.pyplot as plt"
   ]
  },
  {
   "cell_type": "code",
   "execution_count": 21,
   "metadata": {
    "code_folding": []
   },
   "outputs": [],
   "source": [
    "# Download des Krebs-Datensatzes \n",
    "(X, y) = load_breast_cancer(return_X_y=True, as_frame=True)"
   ]
  },
  {
   "cell_type": "code",
   "execution_count": 22,
   "metadata": {
    "code_folding": []
   },
   "outputs": [],
   "source": [
    "# Datensatz in Trainings- und Testdatensatz aufteilen\n",
    "X_train, X_test, y_train, y_test = train_test_split(X, y, random_state=13)"
   ]
  },
  {
   "cell_type": "code",
   "execution_count": 23,
   "metadata": {
    "scrolled": true
   },
   "outputs": [],
   "source": [
    "# Erstellen und Trainieren eines Autoencoders für die Klassifizierung mit Kompression in der Bottleneck-Schicht.\n",
    "# Anzahl der Eingangsspalten\n",
    "n_inputs = X.shape[1]\n",
    "# Skalierung der Daten\n",
    "t = MinMaxScaler()\n",
    "t.fit(X_train)\n",
    "X_train = t.transform(X_train)\n",
    "X_test = t.transform(X_test)\n",
    "# Encoder definieren\n",
    "visible = Input(shape=(n_inputs,))\n",
    "# Encoder Ebene 1\n",
    "e = Dense(n_inputs*2)(visible)\n",
    "e = BatchNormalization()(e)\n",
    "e = LeakyReLU()(e)\n",
    "# Encoder Ebene 2\n",
    "e = Dense(n_inputs)(e)\n",
    "e = BatchNormalization()(e)\n",
    "e = LeakyReLU()(e)\n",
    "# Bottleneck-Schicht\n",
    "n_bottleneck = round(float(n_inputs) / 2.0)\n",
    "bottleneck = Dense(n_bottleneck)(e)\n",
    "# Decoder definieren, Ebene 1\n",
    "d = Dense(n_inputs)(bottleneck)\n",
    "d = BatchNormalization()(d)\n",
    "d = LeakyReLU()(d)\n",
    "# Decoder Ebene 1\n",
    "d = Dense(n_inputs*2)(d)\n",
    "d = BatchNormalization()(d)\n",
    "d = LeakyReLU()(d)\n",
    "# Ausgabe\n",
    "output = Dense(n_inputs, activation='linear')(d)"
   ]
  },
  {
   "cell_type": "markdown",
   "metadata": {},
   "source": [
    "![](autoencoder.png)"
   ]
  },
  {
   "cell_type": "code",
   "execution_count": 33,
   "metadata": {},
   "outputs": [
    {
     "name": "stdout",
     "output_type": "stream",
     "text": [
      "Epoch 1/50\n",
      "5/5 - 0s - loss: 0.0014 - val_loss: 0.0018\n",
      "Epoch 2/50\n",
      "5/5 - 0s - loss: 0.0013 - val_loss: 0.0016\n",
      "Epoch 3/50\n",
      "5/5 - 0s - loss: 0.0013 - val_loss: 0.0015\n",
      "Epoch 4/50\n",
      "5/5 - 0s - loss: 0.0011 - val_loss: 0.0014\n",
      "Epoch 5/50\n",
      "5/5 - 0s - loss: 0.0013 - val_loss: 0.0015\n",
      "Epoch 6/50\n",
      "5/5 - 0s - loss: 0.0011 - val_loss: 0.0013\n",
      "Epoch 7/50\n",
      "5/5 - 0s - loss: 0.0012 - val_loss: 0.0014\n",
      "Epoch 8/50\n",
      "5/5 - 0s - loss: 0.0010 - val_loss: 0.0014\n",
      "Epoch 9/50\n",
      "5/5 - 0s - loss: 0.0011 - val_loss: 0.0014\n",
      "Epoch 10/50\n",
      "5/5 - 0s - loss: 9.9310e-04 - val_loss: 0.0013\n",
      "Epoch 11/50\n",
      "5/5 - 0s - loss: 0.0011 - val_loss: 0.0013\n",
      "Epoch 12/50\n",
      "5/5 - 0s - loss: 0.0011 - val_loss: 0.0013\n",
      "Epoch 13/50\n",
      "5/5 - 0s - loss: 0.0010 - val_loss: 0.0014\n",
      "Epoch 14/50\n",
      "5/5 - 0s - loss: 9.6785e-04 - val_loss: 0.0013\n",
      "Epoch 15/50\n",
      "5/5 - 0s - loss: 9.4026e-04 - val_loss: 0.0013\n",
      "Epoch 16/50\n",
      "5/5 - 0s - loss: 0.0012 - val_loss: 0.0013\n",
      "Epoch 17/50\n",
      "5/5 - 0s - loss: 0.0012 - val_loss: 0.0012\n",
      "Epoch 18/50\n",
      "5/5 - 0s - loss: 0.0012 - val_loss: 0.0013\n",
      "Epoch 19/50\n",
      "5/5 - 0s - loss: 0.0011 - val_loss: 0.0013\n",
      "Epoch 20/50\n",
      "5/5 - 0s - loss: 0.0011 - val_loss: 0.0014\n",
      "Epoch 21/50\n",
      "5/5 - 0s - loss: 9.8787e-04 - val_loss: 0.0012\n",
      "Epoch 22/50\n",
      "5/5 - 0s - loss: 9.4058e-04 - val_loss: 0.0014\n",
      "Epoch 23/50\n",
      "5/5 - 0s - loss: 0.0010 - val_loss: 0.0013\n",
      "Epoch 24/50\n",
      "5/5 - 0s - loss: 9.7699e-04 - val_loss: 0.0012\n",
      "Epoch 25/50\n",
      "5/5 - 0s - loss: 0.0012 - val_loss: 0.0013\n",
      "Epoch 26/50\n",
      "5/5 - 0s - loss: 0.0011 - val_loss: 0.0013\n",
      "Epoch 27/50\n",
      "5/5 - 0s - loss: 0.0011 - val_loss: 0.0012\n",
      "Epoch 28/50\n",
      "5/5 - 0s - loss: 9.8247e-04 - val_loss: 0.0013\n",
      "Epoch 29/50\n",
      "5/5 - 0s - loss: 0.0010 - val_loss: 0.0011\n",
      "Epoch 30/50\n",
      "5/5 - 0s - loss: 9.5942e-04 - val_loss: 0.0013\n",
      "Epoch 31/50\n",
      "5/5 - 0s - loss: 0.0011 - val_loss: 0.0016\n",
      "Epoch 32/50\n",
      "5/5 - 0s - loss: 0.0010 - val_loss: 0.0013\n",
      "Epoch 33/50\n",
      "5/5 - 0s - loss: 0.0010 - val_loss: 0.0013\n",
      "Epoch 34/50\n",
      "5/5 - 0s - loss: 9.6055e-04 - val_loss: 0.0012\n",
      "Epoch 35/50\n",
      "5/5 - 0s - loss: 9.9241e-04 - val_loss: 0.0013\n",
      "Epoch 36/50\n",
      "5/5 - 0s - loss: 9.3549e-04 - val_loss: 0.0012\n",
      "Epoch 37/50\n",
      "5/5 - 0s - loss: 0.0010 - val_loss: 0.0013\n",
      "Epoch 38/50\n",
      "5/5 - 0s - loss: 9.8931e-04 - val_loss: 0.0013\n",
      "Epoch 39/50\n",
      "5/5 - 0s - loss: 0.0010 - val_loss: 0.0012\n",
      "Epoch 40/50\n",
      "5/5 - 0s - loss: 0.0012 - val_loss: 0.0012\n",
      "Epoch 41/50\n",
      "5/5 - 0s - loss: 0.0011 - val_loss: 0.0011\n",
      "Epoch 42/50\n",
      "5/5 - 0s - loss: 0.0011 - val_loss: 0.0012\n",
      "Epoch 43/50\n",
      "5/5 - 0s - loss: 0.0010 - val_loss: 0.0012\n",
      "Epoch 44/50\n",
      "5/5 - 0s - loss: 0.0010 - val_loss: 0.0013\n",
      "Epoch 45/50\n",
      "5/5 - 0s - loss: 0.0010 - val_loss: 0.0012\n",
      "Epoch 46/50\n",
      "5/5 - 0s - loss: 9.9416e-04 - val_loss: 0.0011\n",
      "Epoch 47/50\n",
      "5/5 - 0s - loss: 0.0010 - val_loss: 0.0011\n",
      "Epoch 48/50\n",
      "5/5 - 0s - loss: 9.7734e-04 - val_loss: 0.0011\n",
      "Epoch 49/50\n",
      "5/5 - 0s - loss: 9.8602e-04 - val_loss: 0.0011\n",
      "Epoch 50/50\n",
      "5/5 - 0s - loss: 8.7570e-04 - val_loss: 0.0012\n"
     ]
    },
    {
     "data": {
      "image/png": "[encoded data removed]",
      "text/plain": [
       "<Figure size 432x288 with 1 Axes>"
      ]
     },
     "metadata": {
      "needs_background": "light"
     },
     "output_type": "display_data"
    }
   ],
   "source": [
    "# Autoencoder definieren\n",
    "model = Model(inputs=visible, outputs=output)\n",
    "# Kompilieren des Autoencoders\n",
    "model.compile(optimizer='adam', loss='mse')\n",
    "# Fit das Autoencoder-Modell, um die Eingabe zu rekonstruieren\n",
    "history = model.fit(X_train, X_train, epochs=50, batch_size=100, verbose=2, validation_data=(X_test,X_test))\n",
    "# die Entwicklung der Verlustfunktion darstellen\n",
    "pyplot.plot(history.history['loss'], label='train')\n",
    "pyplot.plot(history.history['val_loss'], label='test')\n",
    "pyplot.legend()\n",
    "pyplot.show()\n",
    "# das Encodermodell vom Autoencoder trennen (ohne den Decoder)\n",
    "encoder = Model(inputs=visible, outputs=bottleneck)\n",
    "# Speichern des Encoders\n",
    "encoder.save('encoder.h5')"
   ]
  },
  {
   "cell_type": "markdown",
   "metadata": {},
   "source": [
    "![](encoder.png)"
   ]
  },
  {
   "cell_type": "code",
   "execution_count": 34,
   "metadata": {},
   "outputs": [
    {
     "name": "stdout",
     "output_type": "stream",
     "text": [
      "                 precision    recall  f1-score   support\n",
      "\n",
      "gutartige Tumor       1.00      0.98      0.99        49\n",
      "bösartige Tumor       0.99      1.00      0.99        94\n",
      "\n",
      "       accuracy                           0.99       143\n",
      "      macro avg       0.99      0.99      0.99       143\n",
      "   weighted avg       0.99      0.99      0.99       143\n",
      "\n"
     ]
    },
    {
     "data": {
      "image/png": "[encoded data removed]",
      "text/plain": [
       "<Figure size 432x288 with 2 Axes>"
      ]
     },
     "metadata": {
      "needs_background": "light"
     },
     "output_type": "display_data"
    }
   ],
   "source": [
    "# Baseline in der Performance mit logistischem Regressionsmodell\n",
    "from sklearn.datasets import make_classification\n",
    "from sklearn.preprocessing import MinMaxScaler\n",
    "from sklearn.preprocessing import LabelEncoder\n",
    "from sklearn.model_selection import train_test_split\n",
    "from sklearn.linear_model import LogisticRegression\n",
    "from sklearn.metrics import accuracy_score\n",
    "from sklearn.metrics import classification_report\n",
    "from sklearn.metrics import confusion_matrix\n",
    "from cf_matrix import make_confusion_matrix\n",
    "# Daten Skalierung\n",
    "t = MinMaxScaler()\n",
    "t.fit(X_train)\n",
    "X_train = t.transform(X_train)\n",
    "X_test = t.transform(X_test)\n",
    "# Einfacher binärer Klassifikator\n",
    "model = LogisticRegression()\n",
    "# Modell an Trainingssatz anpassen\n",
    "model.fit(X_train, y_train)\n",
    "# Vorhersage für den Testsatz durchführen\n",
    "yhat = model.predict(X_test)\n",
    "# Klassifikationsbericht\n",
    "print(classification_report(y_test, yhat, target_names=['gutartige Tumor','bösartige Tumor']))\n",
    "make_confusion_matrix(confusion_matrix(y_test, yhat), categories=['gutartige Tumor','bösartige Tumor'])"
   ]
  },
  {
   "cell_type": "code",
   "execution_count": 39,
   "metadata": {},
   "outputs": [
    {
     "name": "stdout",
     "output_type": "stream",
     "text": [
      "WARNING:tensorflow:No training configuration found in the save file, so the model was *not* compiled. Compile it manually.\n",
      "Accuracy:  0.9671096345514949\n",
      "Precision:  0.9691869722444434\n",
      "Recall:  0.9784425451092118\n",
      "F1:  0.973495918381231 \n",
      "\n"
     ]
    },
    {
     "data": {
      "image/png": "[encoded data removed]",
      "text/plain": [
       "<Figure size 432x288 with 2 Axes>"
      ]
     },
     "metadata": {
      "needs_background": "light"
     },
     "output_type": "display_data"
    }
   ],
   "source": [
    "# logistische Regression auf kodierter Eingabe auswerten (Encoder + logistische Regression Klassifikator)\n",
    "from sklearn.preprocessing import MinMaxScaler\n",
    "from sklearn.preprocessing import LabelEncoder\n",
    "from sklearn.model_selection import train_test_split\n",
    "from sklearn.linear_model import LogisticRegression\n",
    "from sklearn.metrics import accuracy_score\n",
    "from tensorflow.keras.models import load_model\n",
    "# Daten Skalierung\n",
    "t = MinMaxScaler()\n",
    "t.fit(X_train)\n",
    "X_train = t.transform(X_train)\n",
    "X_test = t.transform(X_test)\n",
    "# Laden des Modells aus Datei\n",
    "encoder = load_model('encoder.h5')\n",
    "encoder.compile(optimizer='adam', loss='mse')\n",
    "# die Trainingsdaten kodieren\n",
    "X_train_encode = encoder.predict(X_train)\n",
    "# die Testdaten kodieren\n",
    "X_test_encode = encoder.predict(X_test)\n",
    "# das Modell definieren\n",
    "model = LogisticRegression(max_iter=100)\n",
    "# das Modell an die Trainingsdaten anpassen\n",
    "model.fit(X_train_encode, y_train)\n",
    "# Vorhersagen für den Testsatz durchführen\n",
    "yhat = model.predict(X_test_encode)\n",
    "# Klassifikationsbericht\n",
    "print(classification_report(y_test, yhat, target_names=['gutartige Tumor','bösartige Tumor']))\n",
    "make_confusion_matrix(confusion_matrix(y_test, yhat), categories=['gutartige Tumor','bösartige Tumor'])\n",
    "#  definieren Sie das Verfahren der Kreuzvalidierung\n",
    "cv = RepeatedStratifiedKFold(n_splits=10, n_repeats=3, random_state=1)\n",
    "# Modell auswerten\n",
    "scores = cross_validate(estimator=model, X=X_train_encode, y=y_train, cv=cv, n_jobs=-1, \n",
    "                        scoring=['accuracy', 'roc_auc', 'precision', 'recall', 'f1'])\n",
    "print('Accuracy: ', scores['test_accuracy'].mean())\n",
    "print('Precision: ', scores['test_precision'].mean())\n",
    "print('Recall: ', scores['test_recall'].mean())\n",
    "print('F1: ', scores['test_f1'].mean(), '\\n')"
   ]
  },
  {
   "cell_type": "code",
   "execution_count": 36,
   "metadata": {},
   "outputs": [
    {
     "name": "stdout",
     "output_type": "stream",
     "text": [
      "Accuracy:  0.9467314118629909\n",
      "Precision:  0.9509595683357294\n",
      "Recall:  0.9664021164021164\n",
      "F1:  0.9579506279305835 \n",
      "\n"
     ]
    }
   ],
   "source": [
    "# Klassifizierung auf reduzierter Dimension (PCA-Merkmalsextrahierung + linearer Regressionsklassifikator)\n",
    "from numpy import mean\n",
    "from numpy import std\n",
    "from pandas import read_csv\n",
    "from sklearn.model_selection import RepeatedStratifiedKFold\n",
    "from sklearn.model_selection import cross_val_score\n",
    "from sklearn.linear_model import LogisticRegression\n",
    "from sklearn.pipeline import Pipeline\n",
    "from sklearn.pipeline import FeatureUnion\n",
    "from sklearn.preprocessing import MinMaxScaler\n",
    "from sklearn.preprocessing import StandardScaler\n",
    "from sklearn.preprocessing import RobustScaler\n",
    "from sklearn.decomposition import PCA\n",
    "# Daten Skalierung\n",
    "t = MinMaxScaler()\n",
    "t.fit(X_train)\n",
    "X_train = t.transform(X_train)\n",
    "X_test = t.transform(X_test)\n",
    "# Liste der Transformationen an den Daten\n",
    "transforms = list()\n",
    "transforms.append(('pca', PCA(n_components=9)))\n",
    "fu = FeatureUnion(transforms)\n",
    "# das Modell definieren\n",
    "model = LogisticRegression(solver='liblinear')\n",
    "# die Pipeline definieren\n",
    "steps = list()\n",
    "steps.append(('fu', fu))\n",
    "steps.append(('m', model))\n",
    "pipeline = Pipeline(steps=steps)\n",
    "#  definieren Sie das Verfahren der Kreuzvalidierung\n",
    "cv = RepeatedStratifiedKFold(n_splits=10, n_repeats=3, random_state=1)\n",
    "# Modell auswerten\n",
    "scores = cross_validate(estimator=pipeline, X=X, y=y, cv=cv, n_jobs=-1, \n",
    "                        scoring=['accuracy', 'roc_auc', 'precision', 'recall', 'f1'])\n",
    "print('Accuracy: ', scores['test_accuracy'].mean())\n",
    "print('Precision: ', scores['test_precision'].mean())\n",
    "print('Recall: ', scores['test_recall'].mean())\n",
    "print('F1: ', scores['test_f1'].mean(), '\\n')"
   ]
  },
  {
   "cell_type": "markdown",
   "metadata": {},
   "source": [
    "Über diesen Github-Link können Sie auf den gesamten Code und die Daten des Projekts zugreifen.\n",
    "\n",
    "![](data.png)"
   ]
  }
 ],
 "metadata": {
  "kernelspec": {
   "display_name": "Python 3",
   "language": "python",
   "name": "python3"
  },
  "language_info": {
   "codemirror_mode": {
    "name": "ipython",
    "version": 3
   },
   "file_extension": ".py",
   "mimetype": "text/x-python",
   "name": "python",
   "nbconvert_exporter": "python",
   "pygments_lexer": "ipython3",
   "version": "3.8.5"
  }
 },
 "nbformat": 4,
 "nbformat_minor": 4
}
